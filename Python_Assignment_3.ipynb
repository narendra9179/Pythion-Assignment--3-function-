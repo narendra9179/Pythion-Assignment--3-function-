{
  "nbformat": 4,
  "nbformat_minor": 0,
  "metadata": {
    "colab": {
      "provenance": []
    },
    "kernelspec": {
      "name": "python3",
      "display_name": "Python 3"
    },
    "language_info": {
      "name": "python"
    }
  },
  "cells": [
    {
      "cell_type": "markdown",
      "source": [
        "# **Theory Questions**"
      ],
      "metadata": {
        "id": "5QnI24DxI2zz"
      }
    },
    {
      "cell_type": "markdown",
      "source": [
        "# Q:1. What is the difference between a function and a method in Python?\n",
        "\n",
        "->\n",
        "\n",
        "A function in Python is a block of reusable code that performs a specific task and can be called independently using its name. It is not necessarily associated with any object.\n",
        "\n",
        "A method, on the other hand, is a function that is associated with an object. It is called on an object and can access or modify the object's internal data. In short, all methods are functions, but not all functions are methods.\n",
        "\n",
        "Example:\n",
        "\n",
        "Function : print() is independent of object\n",
        "\n",
        "Method : string.upper() is a method on a string object\n",
        "\n",
        "Thus we can conclude by putting it like functions are independent block of code while\n",
        "methods are function bound to an object.\n",
        "\n"
      ],
      "metadata": {
        "id": "B-gdG6dCI2xK"
      }
    },
    {
      "cell_type": "markdown",
      "source": [
        "# Q:2. Explain the concept of function arguments and parameters in Python.\n",
        "\n",
        "->\n",
        "\n",
        "In Python, parameters and arguments are related but different concepts used in functions.\n",
        "\n",
        "Parameters :\n",
        "\n",
        "  These are the variable names used inside the parentheses when you define a function.\n",
        "\n",
        "Arguments :\n",
        "\n",
        "  These are the actual values you pass to the function when calling it.\n",
        "\n",
        "Example :\n",
        "\n",
        " -# defining a function -\n",
        "def greetings(name):\n",
        "    print(\"hello\", name)\n",
        "\n",
        "greetings(\"Narendra\")  # calling a function\n",
        "\n",
        "here \"name\" is a parameter which is used while defining a function and \"Narendra\" is the argument which is nothing but the actual value used in place of name.\n",
        "\n",
        "To summarise we can say parameter is name used in function while defining it and argument is the actual value passed during function call."
      ],
      "metadata": {
        "id": "tDPsiBX9I2vT"
      }
    },
    {
      "cell_type": "markdown",
      "source": [
        "# Q:3. What are the different ways to define and call a function in Python?\n",
        "\n",
        "->\n",
        "\n",
        "Defining a Function in Python:\n",
        "\n",
        "  In Python, functions are defined using the \"def\" keyword.\n",
        "\n",
        "def say_hi():\n",
        "    print(\"hi\")\n",
        "\n",
        "we can define a function in different ways based on parameters and return types:\n",
        "\n",
        "1. Without parameters and return value\n",
        "\n",
        "def say_hi():\n",
        "    print(\"hi\")\n",
        "2. With parameters\n",
        "\n",
        "def student(name):\n",
        "    print(\"Welcome,\", name)\n",
        "\n",
        "3. With return value\n",
        "\n",
        "def add(a, b):\n",
        "    return a + b\n",
        "\n",
        "4. With default parameter\n",
        "\n",
        "def welcome(name=\"students\"):\n",
        "    print(\"Hello,\", name)\n",
        "\n",
        "5. With variable-length parameters\n",
        "\n",
        "def numbers(*num):\n",
        "    for number in numbers:\n",
        "        print(number)\n",
        "\n",
        "\n",
        "Calling a Function in Python:\n",
        "\n",
        "  You call a function by writing its name followed by parentheses () and passing required arguments.\n",
        "\n",
        "1. Calling without arguments\n",
        "\n",
        "say_hi()  # Output: hi\n",
        "\n",
        "2. Calling with arguments\n",
        "\n",
        "student(\"Narendra\")  # Output: Welcome, Narendra\n",
        "\n",
        "3. Calling function with return value\n",
        "\n",
        "result = add(3, 5)\n",
        "print(result)  # Output: 8\n",
        "\n",
        "etc."
      ],
      "metadata": {
        "id": "LYCnGWJiI2tO"
      }
    },
    {
      "cell_type": "markdown",
      "source": [
        "# Q:4. What is the purpose of the `return` statement in a Python function?\n",
        "\n",
        "->\n",
        "The return statement in Python is used to send back a value from a function to the place where it was called. It ends the function execution and passes the result back to the caller.\n",
        "\n",
        "Purpose:\n",
        "\n",
        "* To send a value back to the caller.\n",
        "\n",
        "* To store the result of a function in a variable.\n",
        "\n",
        "* To exit a function early."
      ],
      "metadata": {
        "id": "DhJdy2rBI2rW"
      }
    },
    {
      "cell_type": "code",
      "source": [
        "# Example 1: Returning a value\n",
        "\n",
        "def add(a, b):\n",
        "    return a + b\n",
        "\n",
        "result = add(3, 4)\n",
        "\n",
        "print(result)  # Output: 7\n",
        "\n",
        "#Example 2: Without return\n",
        "\n",
        "def add(a, b):\n",
        "    print(a + b)\n",
        "\n",
        "x = add(3, 4)\n",
        "print(x)  # Output: 7 and then None (because nothing is returned)"
      ],
      "metadata": {
        "colab": {
          "base_uri": "https://localhost:8080/"
        },
        "id": "ADJ24mxBUKLJ",
        "outputId": "8970d747-053f-4c85-d5c4-3157eda26ea9"
      },
      "execution_count": null,
      "outputs": [
        {
          "output_type": "stream",
          "name": "stdout",
          "text": [
            "7\n",
            "7\n",
            "None\n"
          ]
        }
      ]
    },
    {
      "cell_type": "markdown",
      "source": [
        "# Q:5. What are iterators in Python and how do they differ from iterables?\n",
        "\n",
        "->\n",
        "\n",
        "In Python, iterators and iterables are closely related but not the same.\n",
        "\n",
        "Iterable : A container of items capable of returning its elements one at a time.\n",
        "\n",
        "Example: lists, strings etc.\n",
        "\n",
        "Iterator : An object used to iterate over an iterable. iter() method is used to convert iterable to iterator and next() method is used to fetch data one by one.\n",
        "\n",
        "Example : iter(iterable_object)\n",
        "\n",
        "\n",
        "\n",
        "\n"
      ],
      "metadata": {
        "id": "ccCqrcjMI2pc"
      }
    },
    {
      "cell_type": "markdown",
      "source": [
        "# Q:6. Explain the concept of generators in Python and how they are defined.\n",
        "\n",
        "->\n",
        "\n",
        "A generator in Python is a special type of iterator that yields values one at a time using the yield keyword, instead of returning all results at once like a regular function with return."
      ],
      "metadata": {
        "id": "8yhGLarmI2no"
      }
    },
    {
      "cell_type": "code",
      "source": [
        "# How is a Generator Defined?\n",
        "\n",
        "def countdown(n):\n",
        "    while n > 0:\n",
        "        yield n\n",
        "        n -= 1\n",
        "\n",
        "gen = countdown(5)\n",
        "print(next(gen))  # 5\n",
        "print(next(gen))  # 4\n",
        "\n",
        "#The key point of generator is it return one value at a time because it uses yeild\n",
        "#and it's memory efficient as it doesn't store the entire sequence in memory."
      ],
      "metadata": {
        "colab": {
          "base_uri": "https://localhost:8080/"
        },
        "id": "h1oNzs-6HoZS",
        "outputId": "5013f582-8fad-4f12-8103-d33849a6cb30"
      },
      "execution_count": null,
      "outputs": [
        {
          "output_type": "stream",
          "name": "stdout",
          "text": [
            "5\n",
            "4\n"
          ]
        }
      ]
    },
    {
      "cell_type": "markdown",
      "source": [],
      "metadata": {
        "id": "WV3n6yKPI2gu"
      }
    },
    {
      "cell_type": "markdown",
      "source": [
        "# Q:7. What are the advantages of using generators over regular functions?\n",
        "\n",
        "->\n",
        "\n",
        "Advantages of Using Generators Over Regular Functions -\n",
        "\n",
        "Generators offer several benefits, especially in memory management and performance.\n",
        "\n",
        "1. Memory Efficiency:\n",
        "   \n",
        "   Generators don't store all values in memory — they generate them one at a time using yield.\n",
        "\n",
        "\n",
        "Example:\n",
        "\n",
        "Regular function returns all items in memory\n",
        "def get_numbers_list(n):\n",
        "    return [i for i in range(n)]\n",
        "\n",
        "-Generator returns one item at a time\n",
        "\n",
        "def get_numbers_gen(n):\n",
        "    for i in range(n):\n",
        "        yield i\n",
        "\n",
        "2. Lazy Evaluation :\n",
        "\n",
        "   Values are produced only when needed, not in advance.\n",
        "\n",
        "gen = get_numbers_gen(100)\n",
        "next(gen)  - Generates only the first number\n",
        "\n",
        "3. Can Handle Infinite Sequences:\n",
        "\n",
        "   Generators can run indefinitely without running out of memory.\n",
        "\n"
      ],
      "metadata": {
        "id": "aKQvGVaPH7bt"
      }
    },
    {
      "cell_type": "markdown",
      "source": [
        "# Q:8. What is a lambda function in Python and when is it typically used?\n",
        "\n",
        "->\n",
        "\n",
        "Lambda function in Python is a concise, anonymous way of defining a function using the lambda keyword.\n",
        "\n",
        "It can have any number of arguments, but only one expression.\n",
        "\n",
        "Syntax: lambda arguments: expression\n",
        "\n",
        "Example:\n",
        "\n",
        "   add = lambda x, y: x + y\n",
        "   print(add(2, 3))  # Output: 5\n",
        "\n",
        "Use of Lambda Function:-\n",
        "   \n",
        "   Lambda functions are used when you need a simple, one-line function.\n",
        "\n",
        "Common Use Cases:\n",
        "1. With map\n",
        "2. With filter\n",
        "3. With sorted() using key\n",
        "4. With reduce()"
      ],
      "metadata": {
        "id": "vULVnRJqH7YS"
      }
    },
    {
      "cell_type": "markdown",
      "source": [
        "# Q:9. Explain the purpose and usage of the `map()` function in Python.\n",
        "\n",
        "->\n",
        "\n",
        "The map() function in Python is used to apply a function to each item in an iterable (like a list, tuple, etc.) and return a new map object.\n",
        "\n",
        "It's great for transforming data.\n",
        "\n",
        "Syntax: map(function, iterable)\n",
        "\n",
        "Example 1: Square all numbers in a list\n",
        "\n",
        "nums = [1, 2, 3, 4]\n",
        "squared = map(lambda x: x ** 2, nums)\n",
        "print(list(squared))  # Output: [1, 4, 9, 16]"
      ],
      "metadata": {
        "id": "MOeKQmocH7WL"
      }
    },
    {
      "cell_type": "markdown",
      "source": [
        "# Q:10. What is the difference between `map()`, `reduce()`, and `filter()` functions in Python?\n",
        "\n",
        "->\n",
        "\n",
        "Comparision:\n",
        "\n",
        "* Purpose:\n",
        "\n",
        "  -map() function : applies a function to each item and returns a new iterator.\n",
        "\n",
        "  -filter() : to select items which satisfies the conditions.\n",
        "\n",
        "  -reduce() : applies a function cumulatively to reduce the iterable to a single value.\n",
        "\n",
        "* Returns :\n",
        "\n",
        "   -map() : A map object (iterator)\n",
        "\n",
        "   -filter() : A filter object (iterator)\n",
        "\n",
        "   -reduce() : \tA single value (not an iterator)\n",
        "\n",
        "* Number of Arguments in Function :\n",
        "  \n",
        "   -map() :  takes single argument\n",
        "\n",
        "   -filter() : takes single argument\n",
        "\n",
        "   -reduce() : takes two arguments\n",
        "\n",
        "\n",
        "\n",
        "\n",
        "\n",
        "\n",
        "\n"
      ],
      "metadata": {
        "id": "Im1RstoSH7T-"
      }
    },
    {
      "cell_type": "markdown",
      "source": [
        "#Q:11. Using pen & Paper write the internal mechanism for sum operation using reduce function on this given list:[47,11,42,13];\n",
        "\n",
        "![reduce function pen paper.jpg](data:image/jpeg;base64,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)"
      ],
      "metadata": {
        "id": "hpNdt1CIAlKG"
      }
    },
    {
      "cell_type": "code",
      "source": [
        "\n",
        "from functools import reduce\n",
        "\n",
        "nums = [47, 11, 42, 13]\n",
        "total = reduce(lambda x, y: x + y, nums)\n",
        "print(total)\n",
        "\n",
        "# Internal Working\n",
        "\n",
        "#Step 1: (47 + 11) = 58\n",
        "#Step 2: (58 + 42) = 100\n",
        "#Step 3: (100 + 13) = 113"
      ],
      "metadata": {
        "colab": {
          "base_uri": "https://localhost:8080/"
        },
        "id": "gbvjtpNl_qXR",
        "outputId": "b2c18d93-4f45-43c4-d340-ad7640b04099"
      },
      "execution_count": null,
      "outputs": [
        {
          "output_type": "stream",
          "name": "stdout",
          "text": [
            "113\n"
          ]
        }
      ]
    },
    {
      "cell_type": "markdown",
      "source": [
        "#**Practical Questions**"
      ],
      "metadata": {
        "id": "cqHByKuEH7Is"
      }
    },
    {
      "cell_type": "code",
      "source": [
        "# Q:1.Write a Python function that takes a list of numbers as input and returns the sum of all even numbers in the list.\n",
        "\n",
        "\n",
        "def sum_of_even_no(n): # defining function\n",
        "    sum=0\n",
        "    for i in n:\n",
        "        if i%2==0:\n",
        "            sum+=i\n",
        "    return f'sum of all even number is',sum\n",
        "\n",
        "nums=[1,2,3,4,5,6,7,8,9] # calling a function\n",
        "\n",
        "sum_of_even_no(nums)\n"
      ],
      "metadata": {
        "colab": {
          "base_uri": "https://localhost:8080/"
        },
        "id": "yLLJGJZTG73X",
        "outputId": "8a9960fc-a873-4ff2-eee3-aa137fc942e0"
      },
      "execution_count": null,
      "outputs": [
        {
          "output_type": "execute_result",
          "data": {
            "text/plain": [
              "('sum of all even number is', 20)"
            ]
          },
          "metadata": {},
          "execution_count": 13
        }
      ]
    },
    {
      "cell_type": "code",
      "source": [
        "# Q:2. Create a Python function that accepts a string and returns the reverse of that string.\n",
        "\n",
        "def reverse_string(n): # defining a function\n",
        "    return n[::-1]\n",
        "\n",
        "s=\"Narendra\"  # function calling\n",
        "\n",
        "reverse_string(s)\n",
        "\n"
      ],
      "metadata": {
        "colab": {
          "base_uri": "https://localhost:8080/",
          "height": 36
        },
        "id": "ZcJ_eI3vHvnk",
        "outputId": "a51ffebf-9a03-4f99-84ad-1bb92bcef45b"
      },
      "execution_count": null,
      "outputs": [
        {
          "output_type": "execute_result",
          "data": {
            "text/plain": [
              "'ardneraN'"
            ],
            "application/vnd.google.colaboratory.intrinsic+json": {
              "type": "string"
            }
          },
          "metadata": {},
          "execution_count": 16
        }
      ]
    },
    {
      "cell_type": "code",
      "source": [
        "# Q:3. Implement a Python function that takes a list of integers and returns a new list containing the squares of each number.\n",
        "\n",
        "def squared_list(n): # defining function\n",
        "    squared_list=[]\n",
        "    for num in n:\n",
        "        squared_list.append(num**2)\n",
        "    return squared_list\n",
        "\n",
        "nums=[1,2,3,4] # calling function\n",
        "\n",
        "squared_list(nums)"
      ],
      "metadata": {
        "colab": {
          "base_uri": "https://localhost:8080/"
        },
        "id": "H_-wjDJkKDB6",
        "outputId": "0cccb8e4-9564-42ba-c274-e76156c0c973"
      },
      "execution_count": null,
      "outputs": [
        {
          "output_type": "execute_result",
          "data": {
            "text/plain": [
              "[1, 4, 9, 16]"
            ]
          },
          "metadata": {},
          "execution_count": 18
        }
      ]
    },
    {
      "cell_type": "code",
      "source": [
        "# Q:4. Write a Python function that checks if a given number is prime or not from 1 to 200.\n",
        "\n",
        "def is_prime(n):\n",
        "    if n < 2:\n",
        "        return False  # 0 and 1 are not prime\n",
        "    for i in range(2, n):  # Check all numbers from 2 to n-1\n",
        "        if n % i == 0:\n",
        "            return False   # If divisible, not a prime\n",
        "    return True\n",
        "\n",
        "for num in range(1, 201):\n",
        "    if is_prime(num):\n",
        "        print(f\"{num} is a prime number\")\n",
        "\n",
        "\n"
      ],
      "metadata": {
        "id": "1FiEMM8PK9A9",
        "colab": {
          "base_uri": "https://localhost:8080/"
        },
        "collapsed": true,
        "outputId": "3567baca-efbd-4a64-ceb8-486f88e586d1"
      },
      "execution_count": null,
      "outputs": [
        {
          "output_type": "stream",
          "name": "stdout",
          "text": [
            "2 is a prime number\n",
            "3 is a prime number\n",
            "5 is a prime number\n",
            "7 is a prime number\n",
            "11 is a prime number\n",
            "13 is a prime number\n",
            "17 is a prime number\n",
            "19 is a prime number\n",
            "23 is a prime number\n",
            "29 is a prime number\n",
            "31 is a prime number\n",
            "37 is a prime number\n",
            "41 is a prime number\n",
            "43 is a prime number\n",
            "47 is a prime number\n",
            "53 is a prime number\n",
            "59 is a prime number\n",
            "61 is a prime number\n",
            "67 is a prime number\n",
            "71 is a prime number\n",
            "73 is a prime number\n",
            "79 is a prime number\n",
            "83 is a prime number\n",
            "89 is a prime number\n",
            "97 is a prime number\n",
            "101 is a prime number\n",
            "103 is a prime number\n",
            "107 is a prime number\n",
            "109 is a prime number\n",
            "113 is a prime number\n",
            "127 is a prime number\n",
            "131 is a prime number\n",
            "137 is a prime number\n",
            "139 is a prime number\n",
            "149 is a prime number\n",
            "151 is a prime number\n",
            "157 is a prime number\n",
            "163 is a prime number\n",
            "167 is a prime number\n",
            "173 is a prime number\n",
            "179 is a prime number\n",
            "181 is a prime number\n",
            "191 is a prime number\n",
            "193 is a prime number\n",
            "197 is a prime number\n",
            "199 is a prime number\n"
          ]
        }
      ]
    },
    {
      "cell_type": "code",
      "source": [
        "# Q:5. Create an iterator class in Python that generates the Fibonacci sequence up to a specified number of terms.\n",
        "\n",
        "# Fibonacci Iterator class\n",
        "\n",
        "class Fibonacci:\n",
        "    def __init__(self, n):\n",
        "        self.n = n         # total number of terms\n",
        "        self.count = 0     # current count\n",
        "        self.a = 0         # first number\n",
        "        self.b = 1         # second number\n",
        "\n",
        "    def __iter__(self):\n",
        "        return self        # returns the iterator object\n",
        "\n",
        "    def __next__(self):\n",
        "        if self.count >= self.n:\n",
        "            raise StopIteration  # end of sequence\n",
        "        if self.count == 0:\n",
        "            self.count += 1\n",
        "            return self.a\n",
        "        elif self.count == 1:\n",
        "            self.count += 1\n",
        "            return self.b\n",
        "        else:\n",
        "            fib = self.a + self.b\n",
        "            self.a = self.b\n",
        "            self.b = fib\n",
        "            self.count += 1\n",
        "            return fib\n",
        "\n",
        "#Use:\n",
        "\n",
        "f = Fibonacci(10)  # Generate first 10 Fibonacci numbers\n",
        "\n",
        "for num in f:\n",
        "    print(num)"
      ],
      "metadata": {
        "colab": {
          "base_uri": "https://localhost:8080/"
        },
        "id": "P3G0-LJhQr1b",
        "outputId": "d75b616b-59ca-4b16-85f7-2dc4932340b1"
      },
      "execution_count": null,
      "outputs": [
        {
          "output_type": "stream",
          "name": "stdout",
          "text": [
            "0\n",
            "1\n",
            "1\n",
            "2\n",
            "3\n",
            "5\n",
            "8\n",
            "13\n",
            "21\n",
            "34\n"
          ]
        }
      ]
    },
    {
      "cell_type": "code",
      "source": [
        "# Q:6. Write a generator function in Python that yields the powers of 2 up to a given exponent.\n",
        "\n",
        "def power_generator(n): # defining a function\n",
        "    for power in range(n+1):\n",
        "        yield 2**power\n",
        "\n",
        "two_to_the_power_5 = power_generator(5)\n",
        "\n",
        "for value in two_to_the_power_5:\n",
        "    print(value)\n",
        "\n",
        "\n",
        "\n"
      ],
      "metadata": {
        "id": "lRKlRy2bSGY7",
        "colab": {
          "base_uri": "https://localhost:8080/"
        },
        "outputId": "c03fa331-f9b2-4b17-85f4-336f9cd8926d"
      },
      "execution_count": 19,
      "outputs": [
        {
          "output_type": "stream",
          "name": "stdout",
          "text": [
            "1\n",
            "2\n",
            "4\n",
            "8\n",
            "16\n",
            "32\n"
          ]
        }
      ]
    },
    {
      "cell_type": "code",
      "source": [
        "# Q:7. Implement a generator function that reads a file line by line and yields each line as a string.\n",
        "\n",
        "def read_file_line_by_line(file):\n",
        "    with open(file, 'r') as file:\n",
        "        for line in file:\n",
        "            yield line.rstrip('\\n')  # Yield line without trailing newline"
      ],
      "metadata": {
        "id": "Hsgj173XSByV"
      },
      "execution_count": 20,
      "outputs": []
    },
    {
      "cell_type": "code",
      "source": [
        "# Q:8. Use a lambda function in Python to sort a list of tuples based on the second element of each tuple.\n",
        "\n",
        "values = [(1, \"Ram\"),(2, \"Shyam\"),(3, \"Chaman\"),(4, \"Dhavan\")]\n",
        "\n",
        "sorted_list = sorted(values, key=lambda x: x[1])\n",
        "\n",
        "print(sorted_list)  # result = [(3, 'Chaman'), (4, 'Dhavan'), (1, 'Ram'), (2, 'Shyam')]\n",
        "\n",
        "\n"
      ],
      "metadata": {
        "colab": {
          "base_uri": "https://localhost:8080/"
        },
        "id": "ZGeJ2zVDZVrO",
        "outputId": "28d4b1fa-af82-4101-caff-f5ed0a02687a"
      },
      "execution_count": 31,
      "outputs": [
        {
          "output_type": "stream",
          "name": "stdout",
          "text": [
            "[(3, 'Chaman'), (4, 'Dhavan'), (1, 'Ram'), (2, 'Shyam')]\n"
          ]
        }
      ]
    },
    {
      "cell_type": "code",
      "source": [
        "# Q:9. Write a Python program that uses `map()` to convert a list of temperatures from Celsius to Fahrenheit.\n",
        "\n",
        "celsius = [12, 32, 39, 55]\n",
        "\n",
        "fahrenheit = map(lambda x: x*(9/5) +35 ,celsius)\n",
        "\n",
        "print(list(fahrenheit))\n"
      ],
      "metadata": {
        "colab": {
          "base_uri": "https://localhost:8080/"
        },
        "id": "1WX7rwCycH2y",
        "outputId": "103a5d64-cc50-418b-9d4d-dd4bacf17a01"
      },
      "execution_count": 5,
      "outputs": [
        {
          "output_type": "stream",
          "name": "stdout",
          "text": [
            "[56.6, 92.6, 105.2, 134.0]\n"
          ]
        }
      ]
    },
    {
      "cell_type": "code",
      "source": [
        "# Q:10. Create a Python program that uses `filter()` to remove all the vowels from a given string.\n",
        "\n",
        "string=\"Narendra\"\n",
        "\n",
        "vowels= \"aeiouAEIOU\"\n",
        "\n",
        "filter_vowels= filter(lambda x : x not in vowels, string )\n",
        "\n",
        "result= ''.join(filter_vowels)\n",
        "\n",
        "print(result)"
      ],
      "metadata": {
        "colab": {
          "base_uri": "https://localhost:8080/"
        },
        "id": "DSuksiXPFsS1",
        "outputId": "6a908ad5-5bb4-4bbc-ccc5-2a63e5d1de85"
      },
      "execution_count": 7,
      "outputs": [
        {
          "output_type": "stream",
          "name": "stdout",
          "text": [
            "Nrndr\n"
          ]
        }
      ]
    },
    {
      "cell_type": "markdown",
      "source": [
        "# Q:11) Imagine an accounting routine used in a book shop. It works on a list with sublists, which look like this:\n",
        "orders = [\n",
        "    [34587, \"Learning Python, Mark lutz\", 4, 40.95],\n",
        "    [98762, \"Programming Python, Mark lutz\", 5, 56.80],\n",
        "    [77226, \"Head First Python, Paul Barry\", 3, 32.95],\n",
        "    [88112, \"Einfuhrung in Python, Bernd Klein\", 3, 24.99]\n",
        "]\n",
        "\n",
        "Write a Python program, which returns a list with 2-tuples. Each tuple consists of the order number and the\n",
        "product of the price per item and the quantity. The product should be increased by 10.00, if the value of the\n",
        "order is smaller than 100.00.\n",
        "\n",
        "Write a Python program using lambda and map"
      ],
      "metadata": {
        "id": "KXAvmb_SOdRy"
      }
    },
    {
      "cell_type": "code",
      "source": [
        "# Ans :11\n",
        "\n",
        "orders = [\n",
        "    [34587, \"Learning Python, Mark lutz\", 4, 40.95],\n",
        "    [98762, \"Programming Python, Mark lutz\", 5, 56.80],\n",
        "    [77226, \"Head First Python, Paul Barry\", 3, 32.95],\n",
        "    [88112, \"Einfuhrung in Python, Bernd Klein\", 3, 24.99]\n",
        "]\n",
        "\n",
        "order_with_price = map(lambda x: (x[0],x[2]*x[3] if x[2]*x[3] >= 100 else x[2]*x[3] + 10),orders ) # x = individual order\n",
        "\n",
        "result=list(order_with_price)\n",
        "\n",
        "print(result)"
      ],
      "metadata": {
        "colab": {
          "base_uri": "https://localhost:8080/"
        },
        "id": "nBIZ78CNJ4pt",
        "outputId": "7b86b3e3-b38a-42e9-ea62-a05a3ee16bdb"
      },
      "execution_count": 14,
      "outputs": [
        {
          "output_type": "stream",
          "name": "stdout",
          "text": [
            "[(34587, 163.8), (98762, 284.0), (77226, 108.85000000000001), (88112, 84.97)]\n"
          ]
        }
      ]
    },
    {
      "cell_type": "code",
      "source": [
        "\n"
      ],
      "metadata": {
        "id": "nyYJQVCxQkWs"
      },
      "execution_count": null,
      "outputs": []
    }
  ]
}